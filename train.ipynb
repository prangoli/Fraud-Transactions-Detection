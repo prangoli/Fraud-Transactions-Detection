{
 "cells": [
  {
   "cell_type": "markdown",
   "id": "663d15d6-f82f-412a-b32b-cfd86a6b049a",
   "metadata": {},
   "source": [
    "## Import Necessary Libraries\n",
    "This section imports all required libraries for data manipulation, model building, training, and evaluation, such as `pandas`, `torch`, `torch.nn`, `torch.optim`, `DataLoader`, and relevant `sklearn` modules."
   ]
  },
  {
   "cell_type": "code",
   "execution_count": 1,
   "id": "83006032-bb99-4bae-a611-83c02a1e826e",
   "metadata": {},
   "outputs": [],
   "source": [
    "import pandas as pd\n",
    "import torch\n",
    "import torch.nn as nn\n",
    "import torch.optim as optim\n",
    "from torch.utils.data import DataLoader, TensorDataset\n",
    "from sklearn.model_selection import train_test_split\n",
    "from sklearn.metrics import roc_auc_score\n",
    "from sklearn.metrics import f1_score, confusion_matrix\n",
    "import matplotlib.pyplot as plt\n",
    "import seaborn as sns"
   ]
  },
  {
   "cell_type": "markdown",
   "id": "7983af80-dd9d-4d7b-98f2-cef6a13db4ce",
   "metadata": {},
   "source": [
    "## Load and Preprocess Data\n",
    "Load the preprocessed training dataset into a Pandas DataFrame and define categorical, continuous, target, and post-processing variables."
   ]
  },
  {
   "cell_type": "code",
   "execution_count": 2,
   "id": "8aaa76ee-7d07-43ad-a3b6-b55696174c23",
   "metadata": {},
   "outputs": [],
   "source": [
    "# Load the processed training data\n",
    "df = pd.read_csv('data/processed/train.csv')\n",
    "\n",
    "# Define categorical and continuous variables\n",
    "cat_vars = [\"merchant\", \"category\", \"gender\", \"city\", \"state\", \"job\"]\n",
    "cont_vars = [\"amt\", \"lat\", \"long\", \"city_pop\", \"merch_lat\", \"merch_long\"]\n",
    "target = [\"is_fraud\"]\n",
    "post_cont_vars = [\"mean_monthly_amt\", \"amount_of_monthly_trans\", \"age\", \"mean_time_between_transactions_seconds\"]"
   ]
  },
  {
   "cell_type": "code",
   "execution_count": 3,
   "id": "12240401-6573-41e8-ab74-f841a72202db",
   "metadata": {},
   "outputs": [],
   "source": [
    "# Separate features and target\n",
    "X = df[cat_vars + cont_vars + post_cont_vars].values\n",
    "y = df[target].values\n",
    "\n",
    "# Split the data into training and validation sets\n",
    "X_train, X_val, y_train, y_val = train_test_split(X, y, test_size=0.2, stratify=y)\n",
    "\n",
    "# Convert data to PyTorch tensors\n",
    "X_train_tensor = torch.tensor(X_train, dtype=torch.float32)\n",
    "y_train_tensor = torch.tensor(y_train, dtype=torch.float32).unsqueeze(1)\n",
    "X_val_tensor = torch.tensor(X_val, dtype=torch.float32)\n",
    "y_val_tensor = torch.tensor(y_val, dtype=torch.float32).unsqueeze(1)\n",
    "\n",
    "# Create DataLoader\n",
    "train_dataset = TensorDataset(X_train_tensor, y_train_tensor)\n",
    "val_dataset = TensorDataset(X_val_tensor, y_val_tensor)\n",
    "\n",
    "train_loader = DataLoader(train_dataset, batch_size=4000, shuffle=True)\n",
    "val_loader = DataLoader(val_dataset, batch_size=4000, shuffle=False)"
   ]
  },
  {
   "cell_type": "markdown",
   "id": "f42b4ffd-d64e-4302-97b7-fab73a02fdc8",
   "metadata": {},
   "source": [
    "## Define the Neural Network Model with Entity Embeddings\n",
    "Define the `EntityEmbeddingNN` class, incorporating entity embeddings for categorical variables. The architecture includes embedding layers, dropout layers, and fully connected layers with ReLU activations and batch normalization."
   ]
  },
  {
   "cell_type": "code",
   "execution_count": 4,
   "id": "d228d0ac-beff-45e6-9213-9f1b4494be74",
   "metadata": {},
   "outputs": [],
   "source": [
    "# Define the neural network model with entity embeddings\n",
    "class EntityEmbeddingNN(nn.Module):\n",
    "    def __init__(self, embedding_sizes, n_cont, out_size, layers, p=0.5):\n",
    "        super(EntityEmbeddingNN, self).__init__()\n",
    "        \n",
    "        self.embeddings = nn.ModuleList([nn.Embedding(categories, size) for categories, size in embedding_sizes])\n",
    "        self.embedding_dropout = nn.Dropout(p)\n",
    "        self.n_emb = sum(e.embedding_dim for e in self.embeddings)\n",
    "        self.n_cont = n_cont\n",
    "\n",
    "        self.layers = nn.Sequential(\n",
    "            nn.Linear(self.n_emb + self.n_cont, layers[0]),\n",
    "            nn.ReLU(),\n",
    "            nn.BatchNorm1d(layers[0]),\n",
    "            nn.Dropout(p),\n",
    "            nn.Linear(layers[0], layers[1]),\n",
    "            nn.ReLU(),\n",
    "            nn.BatchNorm1d(layers[1]),\n",
    "            nn.Dropout(p),\n",
    "            nn.Linear(layers[1], out_size),\n",
    "            nn.Sigmoid()\n",
    "        )\n",
    "\n",
    "    def forward(self, x_cat, x_cont):\n",
    "        x = [e(x_cat[:, i]) for i, e in enumerate(self.embeddings)]\n",
    "        x = torch.cat(x, 1)\n",
    "        x = self.embedding_dropout(x)\n",
    "        \n",
    "        x = torch.cat([x, x_cont], 1)\n",
    "        x = self.layers(x)\n",
    "        return x"
   ]
  },
  {
   "cell_type": "code",
   "execution_count": 5,
   "id": "6e9ee817-189a-49ca-a8e1-e892aac1c594",
   "metadata": {},
   "outputs": [],
   "source": [
    "# Define embedding sizes for categorical variables\n",
    "categorical_column_sizes = [len(df[col].unique()) for col in cat_vars]\n",
    "embedding_sizes = [(size, min(50, (size + 1) // 2)) for size in categorical_column_sizes]\n",
    "\n",
    "# Number of continuous variables\n",
    "n_cont = len(cont_vars + post_cont_vars)\n",
    "\n",
    "# Initialize the model\n",
    "model = EntityEmbeddingNN(embedding_sizes, n_cont, 1, [256, 128], p=0.3)\n",
    "\n",
    "# Define the loss function and optimizer\n",
    "criterion = nn.BCELoss()\n",
    "optimizer = optim.Adam(model.parameters(), lr=0.001)\n"
   ]
  },
  {
   "cell_type": "markdown",
   "id": "6f0639aa-719e-4051-b3fc-0efa8d77f70a",
   "metadata": {},
   "source": [
    "## Train the Model\n",
    "Function to train the model using the training data, evaluating performance on the validation set after each epoch, and printing the training and validation loss and AUC scores."
   ]
  },
  {
   "cell_type": "code",
   "execution_count": 6,
   "id": "6c480a13-e61f-4b92-8d22-dc0d0823335d",
   "metadata": {},
   "outputs": [],
   "source": [
    "# Function to train the model\n",
    "def train_model(model, criterion, optimizer, train_loader, val_loader, num_epochs=25):\n",
    "    for epoch in range(num_epochs):\n",
    "        model.train()\n",
    "        running_loss = 0.0\n",
    "        for inputs, labels in train_loader:\n",
    "            x_cat = inputs[:, :len(cat_vars)].long()\n",
    "            x_cont = inputs[:, len(cat_vars):]\n",
    "            \n",
    "            optimizer.zero_grad()\n",
    "            outputs = model(x_cat, x_cont)\n",
    "            loss = criterion(outputs, labels.view(-1, 1))  # Ensure labels shape is [batch_size, 1]\n",
    "            loss.backward()\n",
    "            optimizer.step()\n",
    "            running_loss += loss.item() * inputs.size(0)\n",
    "\n",
    "        epoch_loss = running_loss / len(train_loader.dataset)\n",
    "        \n",
    "        model.eval()\n",
    "        val_running_loss = 0.0\n",
    "        all_labels = []\n",
    "        all_outputs = []\n",
    "        with torch.no_grad():\n",
    "            for inputs, labels in val_loader:\n",
    "                x_cat = inputs[:, :len(cat_vars)].long()\n",
    "                x_cont = inputs[:, len(cat_vars):]\n",
    "                \n",
    "                outputs = model(x_cat, x_cont)\n",
    "                loss = criterion(outputs, labels.view(-1, 1))  # Ensure labels shape is [batch_size, 1]\n",
    "                val_running_loss += loss.item() * inputs.size(0)\n",
    "                \n",
    "                all_labels.extend(labels.view(-1).tolist())\n",
    "                all_outputs.extend(outputs.view(-1).tolist())\n",
    "\n",
    "        val_loss = val_running_loss / len(val_loader.dataset)\n",
    "        val_auc = roc_auc_score(all_labels, all_outputs)\n",
    "        \n",
    "        print(f'Epoch {epoch+1}/{num_epochs}, '\n",
    "              f'Training Loss: {epoch_loss:.4f}, '\n",
    "              f'Validation Loss: {val_loss:.4f}, '\n",
    "              f'Validation AUC: {val_auc:.4f}')"
   ]
  },
  {
   "cell_type": "code",
   "execution_count": 7,
   "id": "3ab89ead-d750-4696-a3ef-f68e19cae3a6",
   "metadata": {},
   "outputs": [
    {
     "name": "stdout",
     "output_type": "stream",
     "text": [
      "Epoch 1/10, Training Loss: 0.2442, Validation Loss: 0.0274, Validation AUC: 0.8728\n",
      "Epoch 2/10, Training Loss: 0.0292, Validation Loss: 0.0196, Validation AUC: 0.9064\n",
      "Epoch 3/10, Training Loss: 0.0238, Validation Loss: 0.0183, Validation AUC: 0.9206\n",
      "Epoch 4/10, Training Loss: 0.0217, Validation Loss: 0.0172, Validation AUC: 0.9295\n",
      "Epoch 5/10, Training Loss: 0.0201, Validation Loss: 0.0160, Validation AUC: 0.9358\n",
      "Epoch 6/10, Training Loss: 0.0186, Validation Loss: 0.0144, Validation AUC: 0.9507\n",
      "Epoch 7/10, Training Loss: 0.0173, Validation Loss: 0.0139, Validation AUC: 0.9548\n",
      "Epoch 8/10, Training Loss: 0.0163, Validation Loss: 0.0136, Validation AUC: 0.9573\n",
      "Epoch 9/10, Training Loss: 0.0157, Validation Loss: 0.0130, Validation AUC: 0.9628\n",
      "Epoch 10/10, Training Loss: 0.0151, Validation Loss: 0.0126, Validation AUC: 0.9669\n"
     ]
    }
   ],
   "source": [
    "# Train the model\n",
    "train_model(model, criterion, optimizer, train_loader, val_loader, num_epochs=10)"
   ]
  },
  {
   "cell_type": "markdown",
   "id": "d0a5563e-50c7-494d-b7d9-ecb9a916a616",
   "metadata": {},
   "source": [
    "## Evaluate the Model\n",
    "Function to evaluate the model on training and validation datasets, calculating loss, F1 score, and plotting a confusion matrix."
   ]
  },
  {
   "cell_type": "code",
   "execution_count": 8,
   "id": "7f4c535f-9e48-4801-9752-8b55088cdb86",
   "metadata": {},
   "outputs": [],
   "source": [
    "# Function to evaluate the model\n",
    "def evaluate_model(model, criterion, data_loader, dataset_name=\"Validation\"):\n",
    "    model.eval()\n",
    "    all_labels = []\n",
    "    all_outputs = []\n",
    "    all_predictions = []\n",
    "    running_loss = 0.0\n",
    "    with torch.no_grad():\n",
    "        for inputs, labels in data_loader:\n",
    "            x_cat = inputs[:, :len(cat_vars)].long()\n",
    "            x_cont = inputs[:, len(cat_vars):]\n",
    "            \n",
    "            outputs = model(x_cat, x_cont)\n",
    "            loss = criterion(outputs, labels.view(-1, 1))\n",
    "            running_loss += loss.item() * inputs.size(0)\n",
    "            \n",
    "            all_labels.extend(labels.view(-1).tolist())\n",
    "            all_outputs.extend(outputs.view(-1).tolist())\n",
    "            all_predictions.extend((outputs >= 0.5).float().view(-1).tolist())\n",
    "    \n",
    "    loss = running_loss / len(data_loader.dataset)\n",
    "    f1 = f1_score(all_labels, all_predictions)\n",
    "    cm = confusion_matrix(all_labels, all_predictions)\n",
    "    \n",
    "    print(f'{dataset_name} Loss: {loss:.4f}')\n",
    "    print(f'{dataset_name} F1 Score: {f1:.4f}')\n",
    "    \n",
    "    # Confusion Matrix\n",
    "    plt.figure(figsize=(8, 6))\n",
    "    sns.heatmap(cm, annot=True, fmt='d', cmap='Blues', xticklabels=['Predicted 0', 'Predicted 1'], yticklabels=['Actual 0', 'Actual 1'])\n",
    "    plt.title(f'{dataset_name} Confusion Matrix')\n",
    "    plt.xlabel('Predicted')\n",
    "    plt.ylabel('Actual')\n",
    "    plt.show()"
   ]
  },
  {
   "cell_type": "code",
   "execution_count": 9,
   "id": "9dc694bd-9d90-4c55-bb6d-2bb87c8e2e62",
   "metadata": {},
   "outputs": [
    {
     "name": "stdout",
     "output_type": "stream",
     "text": [
      "Training Loss: 0.0112\n",
      "Training F1 Score: 0.7323\n"
     ]
    },
    {
     "data": {
      "image/png": "[encoded data removed]",
      "text/plain": [
       "<Figure size 800x600 with 2 Axes>"
      ]
     },
     "metadata": {},
     "output_type": "display_data"
    }
   ],
   "source": [
    "# Evaluate the model on the training set\n",
    "evaluate_model(model, criterion, train_loader, dataset_name=\"Training\")"
   ]
  },
  {
   "cell_type": "code",
   "execution_count": 10,
   "id": "58e94d94-e549-43e7-b35f-153bad567aab",
   "metadata": {},
   "outputs": [
    {
     "name": "stdout",
     "output_type": "stream",
     "text": [
      "Validation Loss: 0.0126\n",
      "Validation F1 Score: 0.6997\n"
     ]
    },
    {
     "data": {
      "image/png": "[encoded data removed]",
      "text/plain": [
       "<Figure size 800x600 with 2 Axes>"
      ]
     },
     "metadata": {},
     "output_type": "display_data"
    }
   ],
   "source": [
    "# Evaluate the model on the validation set\n",
    "evaluate_model(model, criterion, val_loader, dataset_name=\"Validation\")"
   ]
  },
  {
   "cell_type": "markdown",
   "id": "d98f4a53-86ed-4a09-97be-96d579f5aa14",
   "metadata": {},
   "source": [
    "## Save the Model and Additional Information\n",
    "Save the trained model's state and parameters to a file for future use."
   ]
  },
  {
   "cell_type": "code",
   "execution_count": 11,
   "id": "27202e30-09a6-4fd6-a05f-96b1020aeaa6",
   "metadata": {},
   "outputs": [],
   "source": [
    "# Save the model and additional information\n",
    "model_info = {\n",
    "    'state_dict': model.state_dict(),\n",
    "    'embedding_sizes': embedding_sizes,\n",
    "    'n_cont': n_cont,\n",
    "    'output_size': 1,\n",
    "    'layers': [256, 128],\n",
    "    'dropout_prob': 0.3\n",
    "}\n",
    "\n",
    "torch.save(model_info, 'trained_model_info.pth')"
   ]
  }
 ],
 "metadata": {
  "kernelspec": {
   "display_name": "Python 3 (ipykernel)",
   "language": "python",
   "name": "python3"
  },
  "language_info": {
   "codemirror_mode": {
    "name": "ipython",
    "version": 3
   },
   "file_extension": ".py",
   "mimetype": "text/x-python",
   "name": "python",
   "nbconvert_exporter": "python",
   "pygments_lexer": "ipython3",
   "version": "3.9.19"
  }
 },
 "nbformat": 4,
 "nbformat_minor": 5
}
